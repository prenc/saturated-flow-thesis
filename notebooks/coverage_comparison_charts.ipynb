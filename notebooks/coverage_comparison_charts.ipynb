{
 "cells": [
  {
   "cell_type": "code",
   "execution_count": 12,
   "metadata": {
    "pycharm": {
     "name": "#%%\n"
    }
   },
   "outputs": [],
   "source": [
    "import math\n",
    "import os\n",
    "import warnings\n",
    "from glob import glob\n",
    "from itertools import cycle\n",
    "\n",
    "import matplotlib.pyplot as plt\n",
    "plt.style.use(\"grayscale\")\n",
    "font = {'family' : 'normal',\n",
    "        # 'weight' : 'bold',\n",
    "        'size'   : 20}\n",
    "plt.rc('font', **font)\n",
    "\n",
    "import numpy as np\n",
    "import pandas as pd\n",
    "from scipy.interpolate import make_interp_spline\n",
    "warnings.filterwarnings('ignore')\n",
    "import matplotlib.backends.backend_pdf as plt_bc"
   ]
  },
  {
   "cell_type": "code",
   "execution_count": 13,
   "metadata": {
    "pycharm": {
     "name": "#%%\n"
    }
   },
   "outputs": [],
   "source": [
    "def rounddown(x):\n",
    "     return int(math.ceil(x / 100.0)) * 100 - 100\n",
    "\n",
    "def removed_outliers(df, column, level=3):\n",
    "    return df[((df[column] - df[column].mean()) / df[column].std()).abs() < level]\n",
    "\n",
    "def get_column_from_many_csv(filenames, col_num):\n",
    "    intermediate_df = pd.DataFrame()\n",
    "    for i, path in enumerate(filenames):\n",
    "        df = pd.read_csv(path, skiprows=1)\n",
    "        intermediate_df[i] = df.iloc[:, col_num]\n",
    "    return intermediate_df\n",
    "\n",
    "def save_all_plots(file_name):\n",
    "    pdf = plt_bc.PdfPages(f\"{file_name}.pdf\")\n",
    "    for fig in range(1, plt.gcf().number + 1):\n",
    "        pdf.savefig( fig )\n",
    "    pdf.close()"
   ]
  },
  {
   "cell_type": "code",
   "execution_count": 14,
   "metadata": {
    "pycharm": {
     "name": "#%%\n"
    }
   },
   "outputs": [],
   "source": [
    "def smoothen_plot(x, y, smooth_power=300):\n",
    "    smoothened_x = np.linspace(x.min(), x.max(), smooth_power)\n",
    "    spl = make_interp_spline(x, y, k=3)\n",
    "    smoothened_y = spl(smoothened_x)\n",
    "    return smoothened_x, smoothened_y"
   ]
  },
  {
   "cell_type": "code",
   "execution_count": 15,
   "metadata": {
    "pycharm": {
     "name": "#%%\n"
    }
   },
   "outputs": [],
   "source": [
    "def read_averaging_data(ac_glob, normal_glob):\n",
    "    ac_to_avg = glob(ac_glob)\n",
    "    normal_to_avg = glob(normal_glob)\n",
    "\n",
    "    avg_comp = pd.read_csv(ac_to_avg[0], skiprows=1, names=['iteration_no', 'ac_coverage', 'ac_iter_time', 'x', 'y'])\n",
    "    avg_comp.drop(['x', 'y'], axis=1, inplace=True)\n",
    "\n",
    "    avg_comp['ac_iter_time'] = get_column_from_many_csv(ac_to_avg, 2).min(axis=1)\n",
    "    avg_comp['norm_iter_time'] = get_column_from_many_csv(normal_to_avg, 2).min(axis=1)\n",
    "\n",
    "    return avg_comp"
   ]
  },
  {
   "cell_type": "code",
   "execution_count": 16,
   "outputs": [],
   "source": [
    "def cumulate_data(data):\n",
    "    data['ac_iter_time']=data[\"ac_iter_time\"].cumsum()\n",
    "    data['norm_iter_time']=data[\"norm_iter_time\"].cumsum()\n",
    "    return data"
   ],
   "metadata": {
    "collapsed": false,
    "pycharm": {
     "name": "#%%\n"
    }
   }
  },
  {
   "cell_type": "code",
   "execution_count": 17,
   "outputs": [],
   "source": [
    "def read_more_averaging_data(dir_path = \"results/final/coverage/all\", data_column=2, path=\"*sc_stress_*\", func=np.min):\n",
    "    atomic = glob(f\"{dir_path}/{path}/*\")\n",
    "    df = pd.read_csv(atomic[0], skiprows=2, names=['iteration_no', 'ac_coverage', 'ac_iter_time', 'x', 'y', 'z'])\n",
    "    df.drop(['ac_iter_time','x', 'y', 'z'], axis=1, inplace=True)\n",
    "    for test_data in sorted(glob(f\"{dir_path}/*\")):\n",
    "        data = glob(f\"{test_data}/*\")\n",
    "        df[os.path.basename(test_data)] = func(get_column_from_many_csv(data, data_column), axis=1)\n",
    "\n",
    "    return df"
   ],
   "metadata": {
    "collapsed": false,
    "pycharm": {
     "name": "#%%\n"
    }
   }
  },
  {
   "cell_type": "code",
   "execution_count": 18,
   "outputs": [],
   "source": [
    "def create_plot_ac_comp(df, cumulative=False, clean=3, smooth = 100, cross_pairs=[]):\n",
    "    fig, ax = plt.subplots(figsize=(15, 6))\n",
    "\n",
    "    iteration_no = df['iteration_no']\n",
    "    ac_coverage = df[\"ac_coverage\"]\n",
    "\n",
    "    df.drop(['iteration_no','ac_coverage',], axis=1, inplace=True)\n",
    "\n",
    "    if smooth != -1:\n",
    "        smooth_df = pd.DataFrame()\n",
    "        for time in df:\n",
    "            _, ac_iter_time_smooth = smoothen_plot(iteration_no, df[time], smooth)\n",
    "            smooth_df[time] = ac_iter_time_smooth\n",
    "        iteration_no_smooth, ac_coverage_smooth = smoothen_plot(iteration_no, ac_coverage, smooth)\n",
    "        smooth_iteration_no = iteration_no_smooth\n",
    "        smooth_ac_coverage = ac_coverage_smooth\n",
    "    else:\n",
    "        smooth_iteration_no = iteration_no.to_numpy()\n",
    "        smooth_ac_coverage = ac_coverage.to_numpy()\n",
    "        smooth_df = df\n",
    "\n",
    "    ax.set_xlabel('Iteration', fontsize=20)\n",
    "    if cumulative:\n",
    "        ax.set_ylabel('Elapsed time [s]',fontsize=20)\n",
    "        normalized_df = smooth_df.apply(lambda x: x / (10**9))\n",
    "        normalized_df = normalized_df.apply(lambda x: x.cumsum())\n",
    "    else:\n",
    "        ax.set_ylabel('Time of 10 iterations [ms]',fontsize=20)\n",
    "        normalized_df = smooth_df.apply(lambda x: x / (10**6))\n",
    "\n",
    "    line_styles = cycle([\":\", \"--\", \"-.\", \"-\"])\n",
    "    marker_styles = cycle((\"X\", \"o\", \"*\", \"+\", \"*\", \"X\", \".\", \"x\"))\n",
    "    for file_name_with_params in normalized_df:\n",
    "        ax.plot(smooth_iteration_no,\n",
    "                normalized_df[file_name_with_params],\n",
    "                linestyle=next(line_styles),\n",
    "                marker=next(marker_styles),\n",
    "                label=file_name_with_params,\n",
    "                )\n",
    "    full_grid = np.where(smooth_ac_coverage >= 1.0)[0][0]\n",
    "\n",
    "    cross_points = []\n",
    "    for (cross1, cross2) in cross_pairs:\n",
    "        diff_list = (normalized_df[cross1] - normalized_df[cross2]).abs()\n",
    "        cross_point = np.where(diff_list < 1)[0][0]\n",
    "        cross_points.append(cross_point)\n",
    "        ax.axvline(x=smooth_iteration_no[cross_point], lw=1, ls='--', c='black')\n",
    "        y_lim = ax.get_ylim()\n",
    "        x_lim = ax.get_xlim()\n",
    "        ax.text(smooth_iteration_no[cross_point] - x_lim[1] * .02,\n",
    "                (y_lim[1] - y_lim[0]) * .05 + y_lim[0],\n",
    "                'Iteration time crossover', rotation=90)\n",
    "\n",
    "    xs = (\n",
    "      [full_grid - 2] +\n",
    "      list(range(0, len(smooth_iteration_no) , round(len(smooth_iteration_no) / 6) ))\n",
    "\n",
    "    )\n",
    "    xs.pop()\n",
    "    xs.extend(cross_points)\n",
    "    xticks = [smooth_iteration_no[i]  for i in xs]\n",
    "\n",
    "\n",
    "    ax.set_xticks([rounddown(i) for i in xticks])\n",
    "\n",
    "    secax = ax.secondary_xaxis('top')\n",
    "    secax.set_xlabel('Fraction of active cells in CA', fontsize=20, labelpad=10)\n",
    "\n",
    "    secax.set_xticks(xticks)\n",
    "    secax.set_xticklabels([\n",
    "        f'{smooth_ac_coverage[i] * 100:.0f}%'\n",
    "        for i in xs\n",
    "    ])\n",
    "\n",
    "    plt.legend()\n",
    "    return fig"
   ],
   "metadata": {
    "collapsed": false,
    "pycharm": {
     "name": "#%%\n"
    }
   }
  },
  {
   "cell_type": "markdown",
   "source": [
    "## Paper\n"
   ],
   "metadata": {
    "collapsed": false
   }
  },
  {
   "cell_type": "code",
   "execution_count": 19,
   "outputs": [],
   "source": [
    "if not os.path.isdir(\"charts\"):\n",
    "    os.makedirs(\"charts\")\n",
    "if not os.path.isdir(\"charts/paper\"):\n",
    "    os.makedirs(\"charts/paper\")"
   ],
   "metadata": {
    "collapsed": false,
    "pycharm": {
     "name": "#%%\n"
    }
   }
  },
  {
   "cell_type": "markdown",
   "source": [
    "### Paper coverage test"
   ],
   "metadata": {
    "collapsed": false
   }
  },
  {
   "cell_type": "code",
   "execution_count": null,
   "outputs": [],
   "source": [
    "df = read_more_averaging_data(dir_path = \"results/paper/coverage/normal\", path=\"*sc_4*\")\n",
    "df.columns = [\"iteration_no\", \"ac_coverage\", \"AC SC imp.\", \"AC SC adaptive imp.\", \"Non-AC standard imp.\"]\n",
    "\n",
    "create_plot_ac_comp(df, smooth=50, cross_pairs=[(\"AC SC imp.\", \"Non-AC standard imp.\")])\n",
    "plt.savefig(\"charts/paper/coverage.pdf\")"
   ],
   "metadata": {
    "collapsed": false,
    "pycharm": {
     "name": "#%%\n"
    }
   }
  },
  {
   "cell_type": "markdown",
   "source": [
    "### Paper coverage cumulative test"
   ],
   "metadata": {
    "collapsed": false
   }
  },
  {
   "cell_type": "code",
   "execution_count": null,
   "outputs": [],
   "source": [
    "df = read_more_averaging_data(dir_path = \"results/paper/coverage/normal\", path=\"*sc_4*\")\n",
    "df.columns = [\"iteration_no\", \"ac_coverage\", \"AC SC imp.\", \"AC SC adaptive imp.\", \"Non-AC standard imp.\"]\n",
    "\n",
    "create_plot_ac_comp(df, smooth=50, cumulative=True)\n",
    "plt.savefig(\"charts/paper/coverage_cumulative.pdf\")"
   ],
   "metadata": {
    "collapsed": false,
    "pycharm": {
     "name": "#%%\n"
    }
   }
  },
  {
   "cell_type": "markdown",
   "source": [
    "### Paper coverage STRESS test"
   ],
   "metadata": {
    "collapsed": false
   }
  },
  {
   "cell_type": "code",
   "execution_count": 20,
   "outputs": [
    {
     "data": {
      "text/plain": "<Figure size 1080x432 with 1 Axes>",
      "image/png": "[encoded data removed]"
     },
     "metadata": {},
     "output_type": "display_data"
    }
   ],
   "source": [
    "df = read_more_averaging_data(dir_path = \"results/paper/coverage/stress\", func=np.median)\n",
    "df.columns = [\"iteration_no\", \"ac_coverage\", \"AC SC adaptive imp. stress\", \"AC SC imp. stress\", \"Non-AC standard imp. stress\"]\n",
    "\n",
    "create_plot_ac_comp(df, smooth=50)\n",
    "plt.savefig(\"charts/paper/coverage_stress.pdf\")"
   ],
   "metadata": {
    "collapsed": false,
    "pycharm": {
     "name": "#%%\n"
    }
   }
  },
  {
   "cell_type": "markdown",
   "source": [
    "### Paszczak coverage test"
   ],
   "metadata": {
    "collapsed": false
   }
  },
  {
   "cell_type": "code",
   "execution_count": null,
   "outputs": [],
   "source": [
    "if not os.path.isdir(\"charts\"):\n",
    "    os.makedirs(\"charts\")\n",
    "if not os.path.isdir(\"charts/paszczak\"):\n",
    "    os.makedirs(\"charts/paszczak\")"
   ],
   "metadata": {
    "collapsed": false,
    "pycharm": {
     "name": "#%%\n"
    }
   }
  },
  {
   "cell_type": "code",
   "execution_count": null,
   "outputs": [],
   "source": [
    "df = read_more_averaging_data(dir_path = \"results/paszczak/coverage/normal\", path=\"*sc_4*\")\n",
    "df.columns = [\"iteration_no\", \"ac_coverage\", \"AC SC imp.\", \"AC SC adaptive imp.\", \"Non-AC standard imp.\"]\n",
    "\n",
    "create_plot_ac_comp(df, smooth=50, cross_pairs=[(\"AC SC imp.\", \"Non-AC standard imp.\")])\n",
    "plt.savefig(\"charts/paszczak/coverage.pdf\")"
   ],
   "metadata": {
    "collapsed": false,
    "pycharm": {
     "name": "#%%\n"
    }
   }
  },
  {
   "cell_type": "markdown",
   "source": [
    "### Paszczak coverage cumulative test"
   ],
   "metadata": {
    "collapsed": false
   }
  },
  {
   "cell_type": "code",
   "execution_count": null,
   "outputs": [],
   "source": [
    "df = read_more_averaging_data(dir_path = \"results/paszczak/coverage/normal\", path=\"*sc_4*\")\n",
    "df.columns = [\"iteration_no\", \"ac_coverage\", \"AC SC imp.\", \"AC SC adaptive imp.\", \"Non-AC standard imp.\"]\n",
    "\n",
    "create_plot_ac_comp(df, smooth=50, cumulative=True)\n",
    "plt.savefig(\"charts/paszczak/coverage_cumulative.pdf\")"
   ],
   "metadata": {
    "collapsed": false,
    "pycharm": {
     "name": "#%%\n"
    }
   }
  },
  {
   "cell_type": "markdown",
   "source": [
    "### Paszczak coverage STRESS test"
   ],
   "metadata": {
    "collapsed": false
   }
  },
  {
   "cell_type": "code",
   "execution_count": null,
   "outputs": [],
   "source": [
    "df = read_more_averaging_data(dir_path = \"results/paszczak/coverage/stress\", func=np.median)\n",
    "df.columns = [\"iteration_no\", \"ac_coverage\", \"AC SC adaptive imp. stress\", \"AC SC imp. stress\", \"Non-AC standard imp. stress\"]\n",
    "\n",
    "create_plot_ac_comp(df, smooth=50)\n",
    "plt.savefig(\"charts/paszczak/coverage_stress.pdf\")"
   ],
   "metadata": {
    "collapsed": false,
    "pycharm": {
     "name": "#%%\n"
    }
   }
  },
  {
   "cell_type": "markdown",
   "source": [
    "### Conway coverage test"
   ],
   "metadata": {
    "collapsed": false
   }
  },
  {
   "cell_type": "code",
   "execution_count": null,
   "outputs": [],
   "source": [
    "if not os.path.isdir(\"charts\"):\n",
    "    os.makedirs(\"charts\")\n",
    "if not os.path.isdir(\"charts/conway\"):\n",
    "    os.makedirs(\"charts/conway\")"
   ],
   "metadata": {
    "collapsed": false,
    "pycharm": {
     "name": "#%%\n"
    }
   }
  },
  {
   "cell_type": "code",
   "execution_count": null,
   "outputs": [],
   "source": [
    "df = read_more_averaging_data(dir_path = \"results/conway/coverage/normal\", path=\"*sc_4*\")\n",
    "df.columns = [\"iteration_no\", \"ac_coverage\", \"AC SC imp.\", \"AC SC adaptive imp.\", \"Non-AC standard imp.\"]\n",
    "\n",
    "create_plot_ac_comp(df, smooth=50, cross_pairs=[(\"AC SC imp.\", \"Non-AC standard imp.\")])\n",
    "plt.savefig(\"charts/conway/coverage.pdf\")"
   ],
   "metadata": {
    "collapsed": false,
    "pycharm": {
     "name": "#%%\n"
    }
   }
  },
  {
   "cell_type": "markdown",
   "source": [
    "### Conway coverage cumulative test"
   ],
   "metadata": {
    "collapsed": false
   }
  },
  {
   "cell_type": "code",
   "execution_count": null,
   "outputs": [],
   "source": [
    "df = read_more_averaging_data(dir_path = \"results/conway/coverage/normal\", path=\"*sc_4*\")\n",
    "df.columns = [\"iteration_no\", \"ac_coverage\", \"AC SC imp.\", \"AC SC adaptive imp.\", \"Non-AC standard imp.\"]\n",
    "\n",
    "create_plot_ac_comp(df, smooth=50, cumulative=True)\n",
    "plt.savefig(\"charts/conway/coverage_cumulative.pdf\")"
   ],
   "metadata": {
    "collapsed": false,
    "pycharm": {
     "name": "#%%\n"
    }
   }
  },
  {
   "cell_type": "markdown",
   "source": [
    "### Conway coverage STRESS test"
   ],
   "metadata": {
    "collapsed": false
   }
  },
  {
   "cell_type": "code",
   "execution_count": null,
   "outputs": [],
   "source": [
    "df = read_more_averaging_data(dir_path = \"results/conway/coverage/stress\", func=np.median)\n",
    "df.columns = [\"iteration_no\", \"ac_coverage\", \"AC SC adaptive imp. stress\", \"AC SC imp. stress\", \"Non-AC standard imp. stress\"]\n",
    "\n",
    "create_plot_ac_comp(df, smooth=50)\n",
    "plt.savefig(\"charts/conway/coverage_stress.pdf\")"
   ],
   "metadata": {
    "collapsed": false,
    "pycharm": {
     "name": "#%%\n"
    }
   }
  }
 ],
 "metadata": {
  "kernelspec": {
   "name": "python3",
   "language": "python",
   "display_name": "Python 3"
  },
  "language_info": {
   "codemirror_mode": {
    "name": "ipython",
    "version": 3
   },
   "file_extension": ".py",
   "mimetype": "text/x-python",
   "name": "python",
   "nbconvert_exporter": "python",
   "pygments_lexer": "ipython3",
   "version": "3.6.9"
  }
 },
 "nbformat": 4,
 "nbformat_minor": 4
}